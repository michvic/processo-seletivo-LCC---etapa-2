{
  "nbformat": 4,
  "nbformat_minor": 0,
  "metadata": {
    "colab": {
      "name": "Edital 02/2020 - Etapa 2 - Resposta.ipynb",
      "provenance": [],
      "collapsed_sections": [],
      "mount_file_id": "1NaaRqTGsIUKlkwsr2_THQdAvVrdT_LOo",
      "authorship_tag": "ABX9TyNisnzcPAeWPJYVakDAIWRt",
      "include_colab_link": true
    },
    "kernelspec": {
      "name": "python3",
      "display_name": "Python 3"
    }
  },
  "cells": [
    {
      "cell_type": "markdown",
      "metadata": {
        "id": "view-in-github",
        "colab_type": "text"
      },
      "source": [
        "<a href=\"https://colab.research.google.com/github/michvic/processo-seletivo-LCC---etapa-2/blob/master/Edital_02_2020_Etapa_2_Resposta.ipynb\" target=\"_parent\"><img src=\"https://colab.research.google.com/assets/colab-badge.svg\" alt=\"Open In Colab\"/></a>"
      ]
    },
    {
      "cell_type": "markdown",
      "metadata": {
        "id": "brnDntuhdYGl",
        "colab_type": "text"
      },
      "source": [
        "# README\n",
        "\n",
        "Para executar esse notebook no colab basta colocar os arquivos .csv no seu drive e passar o path para a variável.\n",
        "\n",
        "Se você está executando de maneira local passe o caminho do diretório que o arquivo se encontra.\n",
        "\n",
        "```\n",
        "dasets_path = \"Caminho do arquivo/file.csv\"\n",
        "```\n",
        "\n",
        "# OBS\n",
        "  Para executar sem a etapa de normalização apenas pule a célula \"preprocessing\"\n",
        "\n"
      ]
    },
    {
      "cell_type": "code",
      "metadata": {
        "id": "bbQv54A8yBXD",
        "colab_type": "code",
        "outputId": "9e7b4287-e243-48be-a9a7-0cf16189c394",
        "colab": {
          "base_uri": "https://localhost:8080/",
          "height": 34
        }
      },
      "source": [
        "from google.colab import drive\n",
        "\n",
        "drive.mount('/content/gdrive')\n"
      ],
      "execution_count": 0,
      "outputs": [
        {
          "output_type": "stream",
          "text": [
            "Mounted at /content/gdrive\n"
          ],
          "name": "stdout"
        }
      ]
    },
    {
      "cell_type": "markdown",
      "metadata": {
        "id": "oQqakSWb5ubc",
        "colab_type": "text"
      },
      "source": [
        "# load database\n",
        "\n",
        "\n"
      ]
    },
    {
      "cell_type": "code",
      "metadata": {
        "id": "76bCh2l5yVNK",
        "colab_type": "code",
        "outputId": "341be765-6993-465a-ebf9-ccfccaece6e6",
        "colab": {
          "base_uri": "https://localhost:8080/",
          "height": 50
        }
      },
      "source": [
        "import pandas as pd\n",
        "import numpy as np\n",
        "from sklearn.model_selection import train_test_split\n",
        "from os import path\n",
        "from math import e\n",
        "\n",
        "\n",
        "dasets_path = '/content/gdrive/My Drive/CienciaDeDados/'\n",
        "\n",
        "\n",
        "# labels_ecg = pd.read_csv(path.join(dasets_path, 'labels_ecg.csv'), names=['label'])\n",
        "# base_ecg = pd.read_csv(path.join(dasets_path, 'base_ecg.csv'),  )\n",
        "\n",
        "# dataset\n",
        "labels_ecg = np.genfromtxt(path.join(dasets_path, 'labels_ecg.csv'),delimiter=',')\n",
        "labels_ecg = np.expand_dims(labels_ecg, axis=1)\n",
        "base_ecg = np.genfromtxt(path.join(dasets_path, 'base_ecg.csv'),delimiter=',')\n",
        "\n",
        "print(\"Shape data \",labels_ecg.shape)\n",
        "print(\"Shape label \" ,base_ecg.shape)\n"
      ],
      "execution_count": 0,
      "outputs": [
        {
          "output_type": "stream",
          "text": [
            "Shape data  (1000, 1)\n",
            "Shape label  (1000, 1025)\n"
          ],
          "name": "stdout"
        }
      ]
    },
    {
      "cell_type": "markdown",
      "metadata": {
        "id": "ybU3XeydW62p",
        "colab_type": "text"
      },
      "source": [
        "# preprocessing"
      ]
    },
    {
      "cell_type": "code",
      "metadata": {
        "id": "xwGoSUp7XB7S",
        "colab_type": "code",
        "outputId": "0fccf7f2-e30b-4a7b-dc40-d612636218da",
        "colab": {
          "base_uri": "https://localhost:8080/",
          "height": 34
        }
      },
      "source": [
        "sum = 0\n",
        "\n",
        "for i in range(base_ecg.shape[0]):\n",
        "    # reduction of gain | g = 2.52e − 5\n",
        "    base_ecg[i,:] = base_ecg[i,:] / 2.52*e - 5\n",
        "\n",
        "    # reduction of constant component\n",
        "    sum = sum + base_ecg[i,:]\n",
        "    # rescaling\n",
        "    base_ecg[i,:] = (base_ecg[i,:] - np.amin(base_ecg[i,:])) / (np.amax(base_ecg[i,:]) - np.amin(base_ecg[i,:]))\n",
        "\n",
        "u = sum/base_ecg.shape[0]\n",
        "print('ok!')"
      ],
      "execution_count": 0,
      "outputs": [
        {
          "output_type": "stream",
          "text": [
            "ok!\n"
          ],
          "name": "stdout"
        }
      ]
    },
    {
      "cell_type": "markdown",
      "metadata": {
        "id": "1ls8oykzXCQx",
        "colab_type": "text"
      },
      "source": [
        "# train and test split"
      ]
    },
    {
      "cell_type": "code",
      "metadata": {
        "id": "fCn6yoonXLMb",
        "colab_type": "code",
        "outputId": "fc971dc4-50e4-4411-cd6e-6e3605aed735",
        "colab": {
          "base_uri": "https://localhost:8080/",
          "height": 84
        }
      },
      "source": [
        "\n",
        "x_train, x_test, y_train, y_test = train_test_split(base_ecg, labels_ecg, test_size=0.3, random_state=0)\n",
        "\n",
        "print('x_train shape:', x_train.shape)\n",
        "print('y_train shape:', y_train.shape)\n",
        "print('x_test shape:', x_test.shape)\n",
        "print('y_test shape:', y_test.shape)\n",
        "\n",
        "\n",
        "# Normalize data.\n",
        "# x_train = x_train.astype('float32') / 255\n",
        "# x_test = x_test.astype('float32') / 255"
      ],
      "execution_count": 0,
      "outputs": [
        {
          "output_type": "stream",
          "text": [
            "x_train shape: (700, 1025)\n",
            "y_train shape: (700, 1)\n",
            "x_test shape: (300, 1025)\n",
            "y_test shape: (300, 1)\n"
          ],
          "name": "stdout"
        }
      ]
    },
    {
      "cell_type": "markdown",
      "metadata": {
        "id": "y73oiFjcJJ2z",
        "colab_type": "text"
      },
      "source": [
        "# SVM"
      ]
    },
    {
      "cell_type": "code",
      "metadata": {
        "id": "rhMaQ1Tl_8C9",
        "colab_type": "code",
        "outputId": "309a2ec2-eda5-43f0-8529-0d3bf6f6f8d7",
        "colab": {
          "base_uri": "https://localhost:8080/",
          "height": 810
        }
      },
      "source": [
        "# from sklearn.svm import SVC\n",
        "from sklearn.svm import NuSVC\n",
        "from sklearn.metrics import classification_report, confusion_matrix, accuracy_score\n",
        "\n",
        "\n",
        "\n",
        "model = NuSVC(kernel='rbf',nu=0.05)\n",
        "model.fit(x_train, y_train)\n",
        "\n",
        "y_pred = model.predict(x_test)\n",
        "\n",
        "print(\"acc:\",accuracy_score(y_test,y_pred))\n",
        "print(confusion_matrix(y_test,y_pred))\n",
        "print(classification_report(y_test,y_pred))"
      ],
      "execution_count": 0,
      "outputs": [
        {
          "output_type": "stream",
          "text": [
            "/usr/local/lib/python3.6/dist-packages/sklearn/utils/validation.py:760: DataConversionWarning: A column-vector y was passed when a 1d array was expected. Please change the shape of y to (n_samples, ), for example using ravel().\n",
            "  y = column_or_1d(y, warn=True)\n"
          ],
          "name": "stderr"
        },
        {
          "output_type": "stream",
          "text": [
            "acc: 0.82\n",
            "[[70  2  0  0  0  0  3  0  0  0  1  0  0  0  0  0  0]\n",
            " [ 5 12  0  1  0  0  1  0  0  0  0  0  0  0  0  0  0]\n",
            " [ 0  0  6  1  0  0  0  0  0  0  0  0  0  0  0  0  0]\n",
            " [ 3  0  2 38  0  0  1  0  0  0  0  0  0  0  0  0  0]\n",
            " [ 1  0  1  0  0  0  0  0  0  0  0  0  0  0  0  0  0]\n",
            " [ 1  1  0  0  0  7  0  0  0  0  0  0  0  0  0  0  0]\n",
            " [ 5  0  0  2  0  0 27  0  3  0  1  0  0  0  0  0  0]\n",
            " [ 0  0  0  0  0  0  3 13  0  0  0  0  0  0  0  0  0]\n",
            " [ 0  0  0  0  0  0  1  0  1  0  0  0  0  0  0  0  0]\n",
            " [ 0  0  0  0  0  0  0  0  0  2  0  0  0  1  0  0  0]\n",
            " [ 2  0  0  0  0  0  0  0  0  0  2  0  0  0  0  0  0]\n",
            " [ 2  0  0  0  0  0  0  0  0  0  0  1  0  1  0  0  0]\n",
            " [ 1  0  0  0  0  0  1  0  0  0  0  0  0  0  0  0  0]\n",
            " [ 1  0  0  1  0  0  0  0  0  0  0  0  0 29  0  0  2]\n",
            " [ 2  1  0  0  0  0  0  0  0  0  0  0  0  0 15  0  0]\n",
            " [ 0  0  0  0  0  0  0  0  0  0  0  0  0  0  0  2  0]\n",
            " [ 0  0  0  0  0  0  0  0  0  0  0  0  0  0  0  0 21]]\n",
            "              precision    recall  f1-score   support\n",
            "\n",
            "         1.0       0.75      0.92      0.83        76\n",
            "         2.0       0.75      0.63      0.69        19\n",
            "         3.0       0.67      0.86      0.75         7\n",
            "         4.0       0.88      0.86      0.87        44\n",
            "         5.0       0.00      0.00      0.00         2\n",
            "         6.0       1.00      0.78      0.88         9\n",
            "         7.0       0.73      0.71      0.72        38\n",
            "         8.0       1.00      0.81      0.90        16\n",
            "         9.0       0.25      0.50      0.33         2\n",
            "        10.0       1.00      0.67      0.80         3\n",
            "        11.0       0.50      0.50      0.50         4\n",
            "        12.0       1.00      0.25      0.40         4\n",
            "        13.0       0.00      0.00      0.00         2\n",
            "        14.0       0.94      0.88      0.91        33\n",
            "        15.0       1.00      0.83      0.91        18\n",
            "        16.0       1.00      1.00      1.00         2\n",
            "        17.0       0.91      1.00      0.95        21\n",
            "\n",
            "    accuracy                           0.82       300\n",
            "   macro avg       0.73      0.66      0.67       300\n",
            "weighted avg       0.82      0.82      0.81       300\n",
            "\n"
          ],
          "name": "stdout"
        },
        {
          "output_type": "stream",
          "text": [
            "/usr/local/lib/python3.6/dist-packages/sklearn/metrics/_classification.py:1272: UndefinedMetricWarning: Precision and F-score are ill-defined and being set to 0.0 in labels with no predicted samples. Use `zero_division` parameter to control this behavior.\n",
            "  _warn_prf(average, modifier, msg_start, len(result))\n"
          ],
          "name": "stderr"
        }
      ]
    },
    {
      "cell_type": "markdown",
      "metadata": {
        "id": "j6_YuBfzb8W4",
        "colab_type": "text"
      },
      "source": [
        "# kNN"
      ]
    },
    {
      "cell_type": "code",
      "metadata": {
        "id": "mfxEcYSncDCF",
        "colab_type": "code",
        "outputId": "b5ffe622-04d3-43dd-e598-e0b288dc796d",
        "colab": {
          "base_uri": "https://localhost:8080/",
          "height": 776
        }
      },
      "source": [
        "from sklearn.neighbors import KNeighborsClassifier\n",
        "from sklearn.metrics import classification_report, confusion_matrix\n",
        "\n",
        "model = KNeighborsClassifier(n_neighbors=1, metric='minkowski')\n",
        "\n",
        "model.fit(x_train, y_train)\n",
        "\n",
        "y_pred = model.predict(x_test)\n",
        "\n",
        "print(\"acc:\",accuracy_score(y_test,y_pred))\n",
        "print(confusion_matrix(y_test,y_pred))\n",
        "print(classification_report(y_test,y_pred))"
      ],
      "execution_count": 0,
      "outputs": [
        {
          "output_type": "stream",
          "text": [
            "/usr/local/lib/python3.6/dist-packages/ipykernel_launcher.py:6: DataConversionWarning: A column-vector y was passed when a 1d array was expected. Please change the shape of y to (n_samples, ), for example using ravel().\n",
            "  \n"
          ],
          "name": "stderr"
        },
        {
          "output_type": "stream",
          "text": [
            "acc: 0.82\n",
            "[[70  2  0  0  0  0  3  0  0  0  1  0  0  0  0  0  0]\n",
            " [ 1 14  0  1  1  0  1  0  0  0  0  0  0  1  0  0  0]\n",
            " [ 0  0  6  1  0  0  0  0  0  0  0  0  0  0  0  0  0]\n",
            " [ 2  1  1 36  0  0  1  2  0  0  0  0  1  0  0  0  0]\n",
            " [ 1  0  1  0  0  0  0  0  0  0  0  0  0  0  0  0  0]\n",
            " [ 2  0  0  1  0  6  0  0  0  0  0  0  0  0  0  0  0]\n",
            " [ 4  0  0  2  0  0 26  3  2  0  1  0  0  0  0  0  0]\n",
            " [ 0  0  0  0  0  0  2 13  1  0  0  0  0  0  0  0  0]\n",
            " [ 0  0  0  0  0  0  1  0  1  0  0  0  0  0  0  0  0]\n",
            " [ 0  0  0  0  0  0  1  0  0  2  0  0  0  0  0  0  0]\n",
            " [ 0  0  0  0  0  0  2  0  0  0  2  0  0  0  0  0  0]\n",
            " [ 0  0  0  0  0  0  0  0  0  0  0  1  1  2  0  0  0]\n",
            " [ 2  0  0  0  0  0  0  0  0  0  0  0  0  0  0  0  0]\n",
            " [ 1  0  0  1  0  0  0  0  0  0  0  0  0 31  0  0  0]\n",
            " [ 1  1  0  1  0  0  0  0  0  0  0  0  0  0 15  0  0]\n",
            " [ 0  0  0  0  0  0  0  0  0  0  0  0  0  0  0  2  0]\n",
            " [ 0  0  0  0  0  0  0  0  0  0  0  0  0  0  0  0 21]]\n",
            "              precision    recall  f1-score   support\n",
            "\n",
            "         1.0       0.83      0.92      0.88        76\n",
            "         2.0       0.78      0.74      0.76        19\n",
            "         3.0       0.75      0.86      0.80         7\n",
            "         4.0       0.84      0.82      0.83        44\n",
            "         5.0       0.00      0.00      0.00         2\n",
            "         6.0       1.00      0.67      0.80         9\n",
            "         7.0       0.70      0.68      0.69        38\n",
            "         8.0       0.72      0.81      0.76        16\n",
            "         9.0       0.25      0.50      0.33         2\n",
            "        10.0       1.00      0.67      0.80         3\n",
            "        11.0       0.50      0.50      0.50         4\n",
            "        12.0       1.00      0.25      0.40         4\n",
            "        13.0       0.00      0.00      0.00         2\n",
            "        14.0       0.91      0.94      0.93        33\n",
            "        15.0       1.00      0.83      0.91        18\n",
            "        16.0       1.00      1.00      1.00         2\n",
            "        17.0       1.00      1.00      1.00        21\n",
            "\n",
            "    accuracy                           0.82       300\n",
            "   macro avg       0.72      0.66      0.67       300\n",
            "weighted avg       0.83      0.82      0.82       300\n",
            "\n"
          ],
          "name": "stdout"
        }
      ]
    }
  ]
}